{
 "cells": [
  {
   "cell_type": "markdown",
   "id": "9b2296d0-cfbd-4915-bfd7-523087b72e53",
   "metadata": {},
   "source": [
    "# PYTHON W13D5 - PRATICA"
   ]
  },
  {
   "cell_type": "markdown",
   "id": "6300ef9c-593d-419f-abe2-bf78c811ffdc",
   "metadata": {},
   "source": [
    "## Es. 1"
   ]
  },
  {
   "cell_type": "markdown",
   "id": "7a5800f2-465a-4d6c-aab7-776ddb89d252",
   "metadata": {},
   "source": [
    "Creare, a mano, una lista che contenga i numeri da 0 a 5, memorizzarla in una variabile e infine stamparla a video."
   ]
  },
  {
   "cell_type": "code",
   "execution_count": 12,
   "id": "340c0ed4-f5ba-47d6-9f18-b7fa32181961",
   "metadata": {
    "tags": []
   },
   "outputs": [
    {
     "name": "stdout",
     "output_type": "stream",
     "text": [
      "[1, 2, 3, 4, 5]\n"
     ]
    }
   ],
   "source": [
    "my_list = [1,2,3,4,5]\n",
    "print (my_list)"
   ]
  },
  {
   "cell_type": "markdown",
   "id": "c9272a08-e2fb-4548-a007-d6f36d1a47d1",
   "metadata": {},
   "source": [
    "## Es. 2"
   ]
  },
  {
   "cell_type": "markdown",
   "id": "aef82769-e390-4bdb-a943-e9f3fbfb4272",
   "metadata": {},
   "source": [
    "Crea, a mano, una lista che contenga tre titoli dei tuoi film preferiti, memorizzarla in una variabile e infine stampala a video."
   ]
  },
  {
   "cell_type": "code",
   "execution_count": 8,
   "id": "105e5631-08b8-486e-b83b-9acb7973d1db",
   "metadata": {
    "tags": []
   },
   "outputs": [
    {
     "name": "stdout",
     "output_type": "stream",
     "text": [
      "['harry potter', 'quasi amici', 'The Conjuring']\n"
     ]
    }
   ],
   "source": [
    "Films = [\"harry potter\", \"quasi amici\", \"The Conjuring\"]\n",
    "print (Films)"
   ]
  },
  {
   "cell_type": "markdown",
   "id": "354e1339-8f56-4aa7-b5f4-19b20e8dda22",
   "metadata": {},
   "source": [
    "## Es. 3"
   ]
  },
  {
   "cell_type": "markdown",
   "id": "c3711acc-6763-4043-95d5-54ddf6e093f4",
   "metadata": {},
   "source": [
    "Abbiamo la stringa: nome_scuola = \"Epicode\" Stampare l'iniziale."
   ]
  },
  {
   "cell_type": "code",
   "execution_count": 13,
   "id": "5b7886b8-3b8d-4a1a-9378-88f0684c872b",
   "metadata": {
    "tags": []
   },
   "outputs": [
    {
     "name": "stdout",
     "output_type": "stream",
     "text": [
      "E\n"
     ]
    }
   ],
   "source": [
    "nome_scuola = \"Epicode\"\n",
    "print(nome_scuola [0])"
   ]
  },
  {
   "cell_type": "markdown",
   "id": "a4cac36f-d343-425e-913d-1317da28d3dc",
   "metadata": {},
   "source": [
    "## Es. 4"
   ]
  },
  {
   "cell_type": "markdown",
   "id": "17db0bf9-ddbf-4a67-8248-3d5cf3505ca6",
   "metadata": {},
   "source": [
    "Abbiamo la stringa: nome_scuola = \"Epicode\" Stampare le prime tre lettere."
   ]
  },
  {
   "cell_type": "code",
   "execution_count": 15,
   "id": "95d50d8c-844a-4c19-a5be-531a6ab061eb",
   "metadata": {
    "tags": []
   },
   "outputs": [
    {
     "name": "stdout",
     "output_type": "stream",
     "text": [
      "Epi\n"
     ]
    }
   ],
   "source": [
    "nome_scuola = \"Epicode\"\n",
    "print(nome_scuola [0:3])"
   ]
  },
  {
   "cell_type": "markdown",
   "id": "59a33621-ee30-4520-8bcb-433ad19a1e5d",
   "metadata": {
    "tags": []
   },
   "source": [
    "## Es. 5"
   ]
  },
  {
   "cell_type": "markdown",
   "id": "efee8c7e-d864-42dc-984f-b0c150d010c4",
   "metadata": {},
   "source": [
    "Abbiamo la variabile: x = 10 Incrementarla di 2 e poi moltiplicarla per 3 Usare due metodi diversi (ad esempio, uno utilizzando gli operatori di assegnazione, e uno senza)"
   ]
  },
  {
   "cell_type": "code",
   "execution_count": 16,
   "id": "eaf4c903-fc54-4c8c-a27b-47c91ec32cb2",
   "metadata": {
    "tags": []
   },
   "outputs": [
    {
     "name": "stdout",
     "output_type": "stream",
     "text": [
      "36\n"
     ]
    }
   ],
   "source": [
    "x= 10 \n",
    "print( (x+2) *3)\n",
    "\n",
    "print( (10+2)*3)"
   ]
  },
  {
   "cell_type": "code",
   "execution_count": 17,
   "id": "8ebf341e-18d2-422c-aa49-9e49acaacd8b",
   "metadata": {
    "tags": []
   },
   "outputs": [
    {
     "name": "stdout",
     "output_type": "stream",
     "text": [
      "36\n"
     ]
    }
   ],
   "source": [
    "\n",
    "print( (10+2)*3)"
   ]
  },
  {
   "cell_type": "code",
   "execution_count": 18,
   "id": "98498cd3-7696-4b46-87ea-1adc5da5ab1a",
   "metadata": {
    "tags": []
   },
   "outputs": [
    {
     "name": "stdout",
     "output_type": "stream",
     "text": [
      "36\n"
     ]
    }
   ],
   "source": [
    "x1 = (10 + 2 ) * 3\n",
    "print (x1)"
   ]
  },
  {
   "cell_type": "markdown",
   "id": "983ac882-43a1-43ae-b921-97504665f5c9",
   "metadata": {
    "tags": []
   },
   "source": [
    "## Es. 6"
   ]
  },
  {
   "cell_type": "markdown",
   "id": "1b01bd9c-b874-4c55-beb9-da0cb5bf1d41",
   "metadata": {},
   "source": [
    "Scriviamo un programma che chiede in input all'utente una stringa e visualizza i primi 3 caratteri, seguiti da 3 punti di sospensione e quindi gli ultimi 3 caratteri."
   ]
  },
  {
   "cell_type": "code",
   "execution_count": 7,
   "id": "250ddea8-d7b8-4187-bb73-e3516d2f8c4c",
   "metadata": {},
   "outputs": [
    {
     "name": "stdin",
     "output_type": "stream",
     "text": [
      "Ciao a tutti belli e brutti  cccc\n"
     ]
    },
    {
     "name": "stdout",
     "output_type": "stream",
     "text": [
      "ccc... ccc\n"
     ]
    }
   ],
   "source": [
    "ciao = input(\"Ciao a tutti belli e brutti \")\n",
    "ciao1 = ciao[:3]+ \"... \" + ciao[-3:]\n",
    "print(ciao1)"
   ]
  },
  {
   "cell_type": "code",
   "execution_count": 8,
   "id": "f2a9078a-adf0-4c88-be14-94980fa6b53f",
   "metadata": {
    "tags": []
   },
   "outputs": [
    {
     "name": "stdin",
     "output_type": "stream",
     "text": [
      "Inserisci una stringa:  Ciao a tutti belli e brutti\n"
     ]
    },
    {
     "name": "stdout",
     "output_type": "stream",
     "text": [
      "Cia...tti\n"
     ]
    }
   ],
   "source": [
    "# Chiedi all'utente di inserire una stringa\n",
    "input_utente = input(\"Inserisci una stringa: \")\n",
    "\n",
    "# Estrai i primi 3 caratteri\n",
    "primi_3_caratteri = input_utente[:3]\n",
    "\n",
    "# Estrai gli ultimi 3 caratteri\n",
    "ultimi_3_caratteri = input_utente[-3:]\n",
    "\n",
    "# Combina i risultati e aggiungi i punti di sospensione\n",
    "risultato = primi_3_caratteri + \"...\" + ultimi_3_caratteri\n",
    "\n",
    "# Visualizza il risultato\n",
    "print(risultato)"
   ]
  },
  {
   "cell_type": "markdown",
   "id": "dce054b9-a920-473f-8d97-1dccb7ff31c8",
   "metadata": {
    "tags": []
   },
   "source": [
    "### Es. 7\n"
   ]
  },
  {
   "cell_type": "markdown",
   "id": "60309260-1e6a-49f4-ad63-d489b16a36e0",
   "metadata": {},
   "source": [
    "Verificare, per ognuna delle seguenti stringhe, se il numero di caratteri è compreso tra 5 e 8: \n",
    "* Windows \n",
    "* Excel \n",
    "* Powerpoint \n",
    "* Word"
   ]
  },
  {
   "cell_type": "code",
   "execution_count": 2,
   "id": "059295db-580a-444d-b169-9251380fabf3",
   "metadata": {},
   "outputs": [],
   "source": [
    "Windows = \"Windows\"\n",
    "Excel = \"Excel\"\n",
    "Powerpoint = \"Powerpoint\"\n",
    "Word = \"Word\""
   ]
  },
  {
   "cell_type": "code",
   "execution_count": 10,
   "id": "d15e741c-2138-4b66-a11a-911d3ff00a26",
   "metadata": {
    "tags": []
   },
   "outputs": [
    {
     "name": "stdout",
     "output_type": "stream",
     "text": [
      "7\n",
      "è  compreso tra 5 e 8\n"
     ]
    }
   ],
   "source": [
    "print(len(Windows))\n",
    "\n",
    "if len(Windows) <= 5 and len(Windowa) <= 8 :\n",
    "    print(\"è compresto tra 5 e 8\")\n",
    "else:\n",
    "    print(\"è compreso tra 5 e 8\")"
   ]
  },
  {
   "cell_type": "code",
   "execution_count": 12,
   "id": "f38665f0-bf5d-49e4-b614-5c9bc393642d",
   "metadata": {
    "tags": []
   },
   "outputs": [
    {
     "name": "stdout",
     "output_type": "stream",
     "text": [
      "5\n",
      "è compresto tra 5 e 8\n"
     ]
    }
   ],
   "source": [
    "print(len(Excel))\n",
    "\n",
    "if len(Excel) <= 5 and len(Excel) <= 8 :\n",
    "    print(\"è compresto tra 5 e 8\")\n",
    "else:\n",
    "    print(\"è compreso tra 5 e 8\")"
   ]
  },
  {
   "cell_type": "code",
   "execution_count": 11,
   "id": "9bf4da62-2e61-4ec0-b731-c65c5424d549",
   "metadata": {
    "tags": []
   },
   "outputs": [
    {
     "name": "stdout",
     "output_type": "stream",
     "text": [
      "10\n",
      "è compreso tra 5 e 8\n"
     ]
    }
   ],
   "source": [
    "print(len(Powerpoint))\n",
    "\n",
    "if len(Powerpoint) <= 5 and len(Powerpoint) <= 8 :\n",
    "    print(\"è compresto tra 5 e 8\")\n",
    "else:\n",
    "    print(\"è compreso tra 5 e 8\")"
   ]
  },
  {
   "cell_type": "code",
   "execution_count": 13,
   "id": "20ded84b-3f9a-49f5-9120-ba48b53c00e4",
   "metadata": {
    "tags": []
   },
   "outputs": [
    {
     "name": "stdout",
     "output_type": "stream",
     "text": [
      "4\n",
      "è compresto tra 5 e 8\n"
     ]
    }
   ],
   "source": [
    "print(len(Word))\n",
    "\n",
    "if len(Word) <= 5 and len(Word) <= 8 :\n",
    "    print(\"è compresto tra 5 e 8\")\n",
    "else:\n",
    "    print(\"è compreso tra 5 e 8\")"
   ]
  },
  {
   "cell_type": "code",
   "execution_count": null,
   "id": "862cd2a4-70a7-4ccc-9fe0-ca2dc456bf0e",
   "metadata": {},
   "outputs": [],
   "source": [
    "stringhe = [\"Windows\", \"Excel\", \"Powerpoint\", \"Word\"]\n",
    "\n",
    "for s in stringhe:\n",
    "    lunghezza = len(s)\n",
    "    if 5 <= lunghezza <= 8:\n",
    "        print(f\"La lunghezza di {s} è compresa tra 5 e 8 caratteri.\")\n",
    "    else:\n",
    "        print(f\"La lunghezza di {s} non è compresa tra 5 e 8 caratteri.\")\n",
    "    \n",
    "\"\"\" Nel contesto di questo esempio, la variabile s viene utilizzata come una variabile di iterazione \n",
    "per attraversare gli elementi della lista stringhe.\n",
    "Nelle strutture di controllo di flusso come il ciclo for in Python, comunemente si utilizzano variabili\n",
    "di iterazione singole, e s è spesso utilizzata come abbreviazione per \"stringa\". Tuttavia, è possibile \n",
    "utilizzare qualsiasi nome di variabile valido.\n",
    "\n",
    "Quindi, for s in stringhe significa che, ad ogni iterazione del ciclo, la variabile s assumerà il valore\n",
    "di un elemento della lista stringhe, consentendoci di eseguire operazioni su ciascun elemento durante l'iterazione.\n",
    "La notazione f\"{variabile}\" è una forma di f-string in Python, che è un modo comodo per formattare stringhe \n",
    "incorporando il valore di una variabile all'interno di una stringa. L'f prima delle virgolette indica che si tratta di una f-string.\n",
    "\n",
    "Nel contesto dell'esempio, f\"{len(s)}\" viene utilizzato per formattare la lunghezza della stringa s all'interno di una stringa.\n",
    "Questo è un modo conciso e leggibile per incorporare dinamicamente il valore della lunghezza della stringa all'interno della stringa risultante.\n",
    "\n",
    "In sostanza, f\"{len(s)}\" crea una stringa che include il valore della lunghezza di s.\"\"\"\n"
   ]
  },
  {
   "cell_type": "markdown",
   "id": "d5bf55e4-acf0-4f0e-81e3-16e84f56b4ff",
   "metadata": {},
   "source": [
    "## Es. 8"
   ]
  },
  {
   "cell_type": "markdown",
   "id": "733ef604-6248-44e8-8ab7-545f04ec7094",
   "metadata": {},
   "source": [
    "Abbiamo la seguente lista di codici prodotto: codici = [\"knt-S1\", \"cba-G9\", \"qtr-Z8\"] Per ognuno dei codici, estrarre la parte finale (gli ultimi tre caratteri, quindi trattino incluso) e memorizzarli in una nuova lista."
   ]
  },
  {
   "cell_type": "code",
   "execution_count": 16,
   "id": "fd7089f2-a2e1-43a9-a311-1a0900f45f0d",
   "metadata": {
    "tags": []
   },
   "outputs": [
    {
     "name": "stdout",
     "output_type": "stream",
     "text": [
      "['-S1', '-G9', '-Z8']\n"
     ]
    }
   ],
   "source": [
    "codici = [\"knt-S1\", \"cba-G9\", \"qtr-Z8\"]\n",
    "\n",
    "parti_finali = [codice[-3:] for codice in codici]\n",
    "\n",
    "print(parti_finali)\n"
   ]
  },
  {
   "cell_type": "code",
   "execution_count": 17,
   "id": "281432b9-083f-452f-b045-78e8f799180e",
   "metadata": {
    "tags": []
   },
   "outputs": [
    {
     "name": "stdout",
     "output_type": "stream",
     "text": [
      "['-S1', '-G9', '-Z8']\n"
     ]
    }
   ],
   "source": [
    "codici1 = [\"knt-S1\", \"cba-G9\", \"qtr-Z8\"]\n",
    "new_codici = [] # mi creo una lista vuota\n",
    "\n",
    "for codice in codici1: # mi creo un loop in codici1 \n",
    "    new_codici.append (codice [-3:]) # gli dico di aggiungermi solo gli ultimi 3 caratteri alla nuova lista\n",
    "    \n",
    "print(new_codici) # stampo la lista"
   ]
  },
  {
   "cell_type": "markdown",
   "id": "9b11bfdb-9754-44fe-acc0-79faf900d672",
   "metadata": {},
   "source": [
    "## Es. 9"
   ]
  },
  {
   "cell_type": "markdown",
   "id": "90599a2b-c2dc-4acd-bc51-9aefaa322a9a",
   "metadata": {},
   "source": [
    "Abbiamo un insieme (set) di titoli di azioni \"growth\" (cioè che hanno una crescita dei ricavi maggiore della media): \n",
    "\n",
    "growth = {\"Tesla\", \"Shopify\", \"Block\", \"Etsy\", \"MercadoLibre\", \"Netflix\", \"Amazon\", \"Meta Platforms\", \"Salesforce\", \"Alphabet\"} \n",
    "\n",
    "Abbiamo un insieme di titoli \"value\" (cioè titoli che offrono agli investitori un elevato ritorno sull’investimento, garantendo al contempo stabilità e sicurezza): \n",
    "\n",
    "value = {\"Pfizer\", \"Johnson & Johnson\", \"JPMorgan Chase & Co.\", \"Wells Fargo & Co.\", \"Verizon Communications\", \"BP PLC\", \"LyondellBasell Industries\", \"MetLife\", \"Interactive Brokers Group\", \"Intel\"}\n",
    "\n",
    "Abbiamo un insieme di titoli di aziende ad alta tecnologia: \n",
    "\n",
    "tech = {\"Apple\", \"Microsoft\", \"Alphabet\", \"Amazon\", \"NVIDIA\", \"Meta Platforms\", \"Tesla\", \"Alibaba\", \"Salesforce\", \"Advanced Micro Devices\", \"Intel\", \"PayPal\", \"Activision Blizzard\", \"Electronic Arts\", \"The Trade Desk\", \"Zillow Group\", \"Match Group\", \"Yelp\"} \n",
    "\n",
    "Abbiamo un insieme di titoli di aziende nell'healthcare: \n",
    "\n",
    "healthcare = {\"UnitedHealth Group\", \"Johnson & Johnson\", \"Eli Lilly & Co.\", \"Novo Nordisk\", \"Merck & Co.\", \"Roche Holding\", \"Pfizer\", \"Thermo Fisher Scientific\", \"Abbott Laboratories\"}"
   ]
  },
  {
   "cell_type": "code",
   "execution_count": 18,
   "id": "2320c76b-5ce3-46d9-a6eb-0bfa455a123f",
   "metadata": {
    "tags": []
   },
   "outputs": [],
   "source": [
    "growth = {\"Tesla\", \"Shopify\", \"Block\", \"Etsy\", \"MercadoLibre\", \"Netflix\", \n",
    "          \"Amazon\", \"Meta Platforms\", \"Salesforce\", \"Alphabet\"} \n",
    "\n",
    "value = {\"Pfizer\", \"Johnson & Johnson\", \"JPMorgan Chase & Co.\", \"Wells Fargo & Co.\", \n",
    "         \"Verizon Communications\", \"BP PLC\", \"LyondellBasell Industries\", \"MetLife\", \"Interactive Brokers Group\", \"Intel\"}\n",
    "\n",
    "tech = {\"Apple\", \"Microsoft\", \"Alphabet\", \"Amazon\", \"NVIDIA\", \"Meta Platforms\", \"Tesla\", \"Alibaba\", \"Salesforce\", \n",
    "        \"Advanced Micro Devices\", \"Intel\", \"PayPal\", \"Activision Blizzard\", \"Electronic Arts\", \"The Trade Desk\", \"Zillow Group\", \"Match Group\", \"Yelp\"} \n",
    "\n",
    "healthcare = {\"UnitedHealth Group\", \"Johnson & Johnson\", \"Eli Lilly & Co.\", \"Novo Nordisk\", \n",
    "              \"Merck & Co.\", \"Roche Holding\", \"Pfizer\", \"Thermo Fisher Scientific\", \"Abbott Laboratories\"}"
   ]
  },
  {
   "cell_type": "markdown",
   "id": "3c402529-21f4-46ec-91cc-03d209055ef4",
   "metadata": {},
   "source": [
    "Operazioni sui set:\n",
    "* .add(\" stringa\")\n",
    "* .update([ lista ])\n",
    "* .discard(\" stringa \")\n",
    "* .union({ set }) |\n",
    "* .intersection({ set }) &\n",
    "* .difference({ set }) -\n",
    "* .simmetryc_difference({ set }) ^"
   ]
  },
  {
   "cell_type": "markdown",
   "id": "ea5e1258-d18d-4cb8-b410-fd386358b23a",
   "metadata": {},
   "source": [
    "### Es. 9.1"
   ]
  },
  {
   "cell_type": "markdown",
   "id": "d8e1182b-6fa5-46d1-81bf-c5988d3ad56d",
   "metadata": {},
   "source": [
    "Se voglio diversificare l'investimento, investendo in aziende growth e value, quali sono le aziende?"
   ]
  },
  {
   "cell_type": "code",
   "execution_count": 21,
   "id": "0367ecfd-c91f-46a0-8611-d9d94b990910",
   "metadata": {},
   "outputs": [
    {
     "name": "stdout",
     "output_type": "stream",
     "text": [
      "{'Netflix', 'MetLife', 'Shopify', 'JPMorgan Chase & Co.', 'Tesla', 'Verizon Communications', 'Pfizer', 'LyondellBasell Industries', 'Alphabet', 'Block', 'MercadoLibre', 'Etsy', 'Wells Fargo & Co.', 'Meta Platforms', 'Intel', 'Salesforce', 'BP PLC', 'Interactive Brokers Group', 'Amazon', 'Johnson & Johnson'}\n"
     ]
    }
   ],
   "source": [
    "investimento_gr_vl = ( growth.union (value))\n",
    "print (investimento_gr_vl)"
   ]
  },
  {
   "cell_type": "markdown",
   "id": "30f6e469-7055-4254-bd02-f692b42abcc7",
   "metadata": {},
   "source": [
    "### Es. 9.2"
   ]
  },
  {
   "cell_type": "markdown",
   "id": "39ad4cb5-c205-4f67-8f2d-c5f5794b3c5f",
   "metadata": {},
   "source": [
    "Quali sono le aziende tecnologiche growth?"
   ]
  },
  {
   "cell_type": "code",
   "execution_count": 23,
   "id": "81bfd6e5-94d1-4946-8b4d-bd03925c9311",
   "metadata": {},
   "outputs": [
    {
     "name": "stdout",
     "output_type": "stream",
     "text": [
      "{'Alphabet', 'Tesla', 'Meta Platforms', 'Salesforce', 'Amazon'}\n"
     ]
    }
   ],
   "source": [
    "grw_tec = tech.intersection ( growth)\n",
    "print ( grw_tec)"
   ]
  },
  {
   "cell_type": "code",
   "execution_count": 24,
   "id": "cf88cb70-640e-415a-83c7-8bfdeda577f6",
   "metadata": {
    "tags": []
   },
   "outputs": [
    {
     "name": "stdout",
     "output_type": "stream",
     "text": [
      "{'Alphabet', 'Tesla', 'Meta Platforms', 'Salesforce', 'Amazon'}\n"
     ]
    }
   ],
   "source": [
    "grw_tec1 = growth.intersection ( tech)\n",
    "print ( grw_tec1)"
   ]
  },
  {
   "cell_type": "markdown",
   "id": "83dafa3c-8ffe-492e-8415-efb3893e2172",
   "metadata": {},
   "source": [
    "### Es. 9.3"
   ]
  },
  {
   "cell_type": "markdown",
   "id": "b0cc11f0-4cf3-42e3-a5e6-c8bf182a043b",
   "metadata": {},
   "source": [
    "Se voglio investire sia in aziende tecnologiche che value, quali devo considerare?"
   ]
  },
  {
   "cell_type": "code",
   "execution_count": 25,
   "id": "88680531-ed35-4601-bbe3-faf73b03c1cf",
   "metadata": {},
   "outputs": [
    {
     "name": "stdout",
     "output_type": "stream",
     "text": [
      "{'MetLife', 'Alibaba', 'JPMorgan Chase & Co.', 'Tesla', 'Microsoft', 'Verizon Communications', 'Activision Blizzard', 'Interactive Brokers Group', 'Pfizer', 'Zillow Group', 'Apple', 'Yelp', 'The Trade Desk', 'NVIDIA', 'Alphabet', 'LyondellBasell Industries', 'Match Group', 'PayPal', 'Wells Fargo & Co.', 'Advanced Micro Devices', 'Meta Platforms', 'Intel', 'Salesforce', 'BP PLC', 'Electronic Arts', 'Amazon', 'Johnson & Johnson'}\n"
     ]
    }
   ],
   "source": [
    "tech_val = tech.union(value)\n",
    "print ( tech_val)"
   ]
  },
  {
   "cell_type": "markdown",
   "id": "be6c3e70-b45b-4480-8fba-d5a45452cff9",
   "metadata": {},
   "source": [
    "### Es. 9.4"
   ]
  },
  {
   "cell_type": "markdown",
   "id": "1e9d1271-1051-4f81-a292-57a05880afb6",
   "metadata": {},
   "source": [
    "Creare, a mano, una lista che contenga i numeri da 0 a 5, memorizzarla in una variabile e infine stamparla a video."
   ]
  },
  {
   "cell_type": "code",
   "execution_count": 28,
   "id": "8918f93d-49b1-4dca-baf0-18c171622a75",
   "metadata": {
    "tags": []
   },
   "outputs": [
    {
     "name": "stdout",
     "output_type": "stream",
     "text": [
      "[0, 1, 2, 3, 4, 5]\n"
     ]
    }
   ],
   "source": [
    "lista_numeri = [0,1,2,3,4,5]\n",
    "print (lista_numeri)"
   ]
  },
  {
   "cell_type": "markdown",
   "id": "e76ba9df-a1ef-4ecd-91ac-df549176921c",
   "metadata": {},
   "source": [
    "### Es. 9.5"
   ]
  },
  {
   "cell_type": "markdown",
   "id": "6fbcd145-1c56-48c7-836c-8e9c32779ff0",
   "metadata": {},
   "source": [
    "Quali sono i titoli healthcare che non sono value?"
   ]
  },
  {
   "cell_type": "code",
   "execution_count": 31,
   "id": "b6d92ff4-aa64-44d9-a369-8fe2f2f72c30",
   "metadata": {},
   "outputs": [
    {
     "name": "stdout",
     "output_type": "stream",
     "text": [
      "{'LyondellBasell Industries', 'UnitedHealth Group', 'MetLife', 'Thermo Fisher Scientific', 'Roche Holding', 'Eli Lilly & Co.', 'Wells Fargo & Co.', 'Novo Nordisk', 'Verizon Communications', 'Abbott Laboratories', 'Intel', 'Interactive Brokers Group', 'BP PLC', 'JPMorgan Chase & Co.', 'Merck & Co.'}\n"
     ]
    }
   ],
   "source": [
    "Health_no_val = healthcare.symmetric_difference(value)\n",
    "print ( Health_no_val)"
   ]
  },
  {
   "cell_type": "markdown",
   "id": "438d9b5e-9691-4542-979e-1a11acf36ac4",
   "metadata": {},
   "source": [
    "### Es. 9.6"
   ]
  },
  {
   "cell_type": "markdown",
   "id": "292cb36d-b16b-45a3-ae49-c85902469e14",
   "metadata": {},
   "source": [
    "Ci sono aziende sia tech che healthcare?"
   ]
  },
  {
   "cell_type": "code",
   "execution_count": 35,
   "id": "78c5b479-9756-4d39-a3a8-f95261bd59b8",
   "metadata": {},
   "outputs": [
    {
     "name": "stdout",
     "output_type": "stream",
     "text": [
      "set()\n",
      "Non ci sono aziente sia tech che healthcare\n"
     ]
    }
   ],
   "source": [
    "Inters_tech_health = tech.intersection(healthcare)\n",
    "print(Inters_tech_health)\n",
    "if not Inters_tech_health:\n",
    "    print(\"Non ci sono aziente sia tech che healthcare\")\n",
    "else:\n",
    "    print(Inters_tech_health )\n"
   ]
  },
  {
   "cell_type": "markdown",
   "id": "88f38057-97f7-46e2-afe2-fc3b89965dff",
   "metadata": {},
   "source": [
    "### Es. 9.1"
   ]
  },
  {
   "cell_type": "markdown",
   "id": "706f1c8c-ee8c-41fb-bc4e-74a40ae35654",
   "metadata": {},
   "source": [
    "In quali devo investire se voglio azioni tech ma solo se siano growth o value?"
   ]
  },
  {
   "cell_type": "code",
   "execution_count": 36,
   "id": "7c563c70-7e15-49d0-84c0-813b6da97488",
   "metadata": {
    "tags": []
   },
   "outputs": [
    {
     "name": "stdout",
     "output_type": "stream",
     "text": [
      "{'Alphabet', 'Tesla', 'Meta Platforms', 'Salesforce', 'Amazon'}\n",
      "{'Intel'}\n"
     ]
    }
   ],
   "source": [
    "Techingrw = growth.intersection ( tech)\n",
    "print ( Techingrw )\n",
    "Techinvalue = value.intersection (tech)\n",
    "print (Techinvalue)"
   ]
  }
 ],
 "metadata": {
  "kernelspec": {
   "display_name": "Python 3 (ipykernel)",
   "language": "python",
   "name": "python3"
  },
  "language_info": {
   "codemirror_mode": {
    "name": "ipython",
    "version": 3
   },
   "file_extension": ".py",
   "mimetype": "text/x-python",
   "name": "python",
   "nbconvert_exporter": "python",
   "pygments_lexer": "ipython3",
   "version": "3.11.5"
  }
 },
 "nbformat": 4,
 "nbformat_minor": 5
}
